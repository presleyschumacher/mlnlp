{
 "cells": [
  {
   "cell_type": "markdown",
   "metadata": {},
   "source": [
    "# Web Mining and Applied NLP (44-620)\n",
    "\n",
    "## Python Notebooks, Basics, and Data Structures\n",
    "\n",
    "### Student Name: Presley Schumacher\n",
    "\n",
    "Perform the tasks described in the Markdown cells below.  When you have completed the assignment make sure your code cells have all been run (and have output beneath them) and ensure you have committed and pushed ALL of your changes to your assignment repository.\n",
    "\n",
    "Every question that requires you to write code will have a code cell underneath it; you may either write your entire solution in that cell or write it in a python file (`.py`), then import and run the appropriate code to answer the question.\n",
    "\n",
    "Do not use external modules (`math`, etc) for this assignment unless you are explicitly instructed to, though you may use built in python functions (`min`, `max`, etc) as you wish."
   ]
  },
  {
   "cell_type": "markdown",
   "metadata": {},
   "source": [
    "1. Modify the Markdown cell above to put your name after \"Student Name:\"; you will be expected to do this in all assignments presented in this format for this class."
   ]
  },
  {
   "cell_type": "markdown",
   "metadata": {},
   "source": [
    "2. Write code that divides any two numbers, stores the result in a variable, and prints the result with an appropriate label."
   ]
  },
  {
   "cell_type": "code",
   "execution_count": 13,
   "metadata": {},
   "outputs": [
    {
     "name": "stdout",
     "output_type": "stream",
     "text": [
      "3.0\n",
      "27 divided by 9 is 3\n"
     ]
    }
   ],
   "source": [
    "a = 27\n",
    "b = 9\n",
    "def div(a,b):\n",
    "    return a/b\n",
    "print(div(27,9))\n",
    "print(\"27 divided by 9 is 3\")"
   ]
  },
  {
   "cell_type": "markdown",
   "metadata": {},
   "source": [
    "3. Using loops (and potentially conditionals), write Python code that prints the factorial of each integer from 1 through 10 (which you can store in a variable if you want). The factorial of an integer is the product of all of the integers of 1 through the number. Print the result with an appropriate label."
   ]
  },
  {
   "cell_type": "code",
   "execution_count": null,
   "metadata": {},
   "outputs": [],
   "source": []
  },
  {
   "cell_type": "markdown",
   "metadata": {},
   "source": [
    "4. Write a python function that takes a single parameter and calculates and returns the average (mean) of the values in the parameter (which you may assume is iterable).  Show that your function works by printing the result of calling the function on the list in the cell below."
   ]
  },
  {
   "cell_type": "code",
   "execution_count": 12,
   "metadata": {},
   "outputs": [
    {
     "name": "stdout",
     "output_type": "stream",
     "text": [
      "The average of testlist is 0.0\n"
     ]
    }
   ],
   "source": [
    "def Average(l):\n",
    "    avg = sum(l) / len(l)\n",
    "    return avg\n",
    "    \n",
    "testlist = [1,-1,2,-2,3,-3,4,-4]\n",
    "average = Average(testlist)\n",
    "\n",
    "print (\"The average of testlist is\", average)"
   ]
  },
  {
   "cell_type": "markdown",
   "metadata": {},
   "source": [
    "5. Using your mean function above, write a function that calculates the variance of the list of numbers (see https://en.wikipedia.org/wiki/Variance for more information on the formula). In short:\n",
    "* subtract the mean of the elements in the list from every element in the list; store these values in a new list\n",
    "* square every element in the new list and sum the elements together\n",
    "* divide the resulting number by N (where N is the length of the original list)\n",
    "\n",
    "Show the result of calling your function in the lists in the code cell. You must use one or more list comprehensions or map/filter in your code.\n"
   ]
  },
  {
   "cell_type": "markdown",
   "metadata": {},
   "source": [
    "# The variance of list1 is 1.13973309\n",
    "# The variance of list2 is 0.9257232841"
   ]
  },
  {
   "cell_type": "code",
   "execution_count": 14,
   "metadata": {},
   "outputs": [],
   "source": [
    "list1 = [ 5.670e-1, -1.480e+0, -5.570e-1, -1.470e+0, 7.340e-1, 1.050e+0, 4.480e-1, 2.570e-1, -1.970e+0, -1.460e+0]\n",
    "list2 = [-1.780e+0, 2.640e-1, 1.160e+0, 9.080e-1, 1.780e+0, 1.080e+0, 1.050e+0, -4.630e-2, 1.520e+0, 5.350e-1]\n",
    "# the variances of both lists should be relatively close to 1 (off by less than .15)"
   ]
  },
  {
   "cell_type": "markdown",
   "metadata": {
    "tags": []
   },
   "source": [
    "List 1"
   ]
  },
  {
   "cell_type": "code",
   "execution_count": 45,
   "metadata": {
    "tags": []
   },
   "outputs": [],
   "source": [
    "list1 = [ 5.670e-1, -1.480e+0, -5.570e-1, -1.470e+0, 7.340e-1, 1.050e+0, 4.480e-1, 2.570e-1, -1.970e+0, -1.460e+0]"
   ]
  },
  {
   "cell_type": "code",
   "execution_count": 46,
   "metadata": {},
   "outputs": [
    {
     "name": "stdout",
     "output_type": "stream",
     "text": [
      "-0.3881\n"
     ]
    }
   ],
   "source": [
    "def Average(l):\n",
    "    avg = sum(l) / len(l)\n",
    "    return avg\n",
    "\n",
    "average = Average(list1)\n",
    "print(average)"
   ]
  },
  {
   "cell_type": "code",
   "execution_count": 47,
   "metadata": {},
   "outputs": [
    {
     "name": "stdout",
     "output_type": "stream",
     "text": [
      "[0.9551, -1.0918999999999999, -0.16890000000000005, -1.0819, 1.1221, 1.4381, 0.8361000000000001, 0.6451, -1.5819, -1.0718999999999999]\n"
     ]
    }
   ],
   "source": [
    "list1 = [x - (-0.3881) for x in list1]\n",
    "print(list1)"
   ]
  },
  {
   "cell_type": "code",
   "execution_count": 48,
   "metadata": {
    "tags": []
   },
   "outputs": [
    {
     "name": "stdout",
     "output_type": "stream",
     "text": [
      "[0.9122160099999999, 1.1922456099999996, 0.028527210000000018, 1.1705076100000003, 1.2591084100000003, 2.06813161, 0.6990632100000002, 0.41615401, 2.50240761, 1.1489696099999998]\n"
     ]
    }
   ],
   "source": [
    "list_a = [0.9551, -1.0918999999999999, -0.16890000000000005, -1.0819, 1.1221, 1.4381, 0.8361000000000001, 0.6451, -1.5819, -1.0718999999999999]\n",
    "for i in range(len(list_a)):\n",
    "    list_a[i]=list_a[i]**2\n",
    "print(list_a)"
   ]
  },
  {
   "cell_type": "code",
   "execution_count": 49,
   "metadata": {
    "tags": []
   },
   "outputs": [
    {
     "name": "stdout",
     "output_type": "stream",
     "text": [
      "11.3973309\n"
     ]
    }
   ],
   "source": [
    "list_A = [0.9122160099999999, 1.1922456099999996, 0.028527210000000018, 1.1705076100000003, 1.2591084100000003, 2.06813161, 0.6990632100000002, 0.41615401, 2.50240761, 1.1489696099999998]\n",
    "Sum = sum(list_A)\n",
    "print(Sum)"
   ]
  },
  {
   "cell_type": "code",
   "execution_count": 62,
   "metadata": {},
   "outputs": [
    {
     "name": "stdout",
     "output_type": "stream",
     "text": [
      "1.13973309\n"
     ]
    }
   ],
   "source": [
    "number1 = 11.3973309\n",
    "number2 = 10\n",
    "print(number1/number2)"
   ]
  },
  {
   "cell_type": "markdown",
   "metadata": {},
   "source": [
    "List 2"
   ]
  },
  {
   "cell_type": "code",
   "execution_count": 54,
   "metadata": {},
   "outputs": [],
   "source": [
    "list2 = [-1.780e+0, 2.640e-1, 1.160e+0, 9.080e-1, 1.780e+0, 1.080e+0, 1.050e+0, -4.630e-2, 1.520e+0, 5.350e-1]"
   ]
  },
  {
   "cell_type": "code",
   "execution_count": 55,
   "metadata": {
    "tags": []
   },
   "outputs": [
    {
     "name": "stdout",
     "output_type": "stream",
     "text": [
      "0.64707\n"
     ]
    }
   ],
   "source": [
    "def Average(l):\n",
    "    avg = sum(l) / len(l)\n",
    "    return avg\n",
    "\n",
    "average = Average(list2)\n",
    "print(average)"
   ]
  },
  {
   "cell_type": "code",
   "execution_count": 56,
   "metadata": {},
   "outputs": [
    {
     "name": "stdout",
     "output_type": "stream",
     "text": [
      "[-2.42707, -0.38307, 0.5129299999999999, 0.26093, 1.13293, 0.43293000000000004, 0.40293, -0.69337, 0.87293, -0.11207]\n"
     ]
    }
   ],
   "source": [
    "list2 = [x - 0.64707 for x in list2]\n",
    "print(list2)"
   ]
  },
  {
   "cell_type": "code",
   "execution_count": 57,
   "metadata": {},
   "outputs": [
    {
     "name": "stdout",
     "output_type": "stream",
     "text": [
      "[5.8906687849, 0.1467426249, 0.2630971848999999, 0.0680844649, 1.2835303849, 0.18742838490000002, 0.1623525849, 0.48076195690000006, 0.7620067849, 0.012559684900000001]\n"
     ]
    }
   ],
   "source": [
    "list_b = [-2.42707, -0.38307, 0.5129299999999999, 0.26093, 1.13293, 0.43293000000000004, 0.40293, -0.69337, 0.87293, -0.11207]\n",
    "for i in range(len(list_b)):\n",
    "    list_b[i]=list_b[i]**2\n",
    "print(list_b)"
   ]
  },
  {
   "cell_type": "code",
   "execution_count": 58,
   "metadata": {},
   "outputs": [
    {
     "name": "stdout",
     "output_type": "stream",
     "text": [
      "9.257232841\n"
     ]
    }
   ],
   "source": [
    "list_B = [5.8906687849, 0.1467426249, 0.2630971848999999, 0.0680844649, 1.2835303849, 0.18742838490000002, 0.1623525849, 0.48076195690000006, 0.7620067849, 0.012559684900000001]\n",
    "Sum = sum(list_B)\n",
    "print(Sum)"
   ]
  },
  {
   "cell_type": "code",
   "execution_count": 60,
   "metadata": {},
   "outputs": [
    {
     "name": "stdout",
     "output_type": "stream",
     "text": [
      "0.9257232841\n"
     ]
    }
   ],
   "source": [
    "number1 = 9.257232841\n",
    "number2 = 10\n",
    "print(number1/number2)"
   ]
  },
  {
   "cell_type": "markdown",
   "metadata": {},
   "source": [
    "6. Create a list with at least 15 elements in it. Use list slicing to print the following:\n",
    "* The first 5 elements of the list\n",
    "* The last 5 elements of the list\n",
    "* The list reversed (hint, show the entire list with a stride of -1)\n",
    "* Every second element in the list\n",
    "* Every third element in the list (stride of 3)"
   ]
  },
  {
   "cell_type": "code",
   "execution_count": 63,
   "metadata": {},
   "outputs": [
    {
     "name": "stdout",
     "output_type": "stream",
     "text": [
      "['P', 'r', 'e', 's', 'l', 'e', 'y', 'S', 'c', 'h', 'u', 'm', 'a', 'c', 'h', 'e', 'r']\n"
     ]
    }
   ],
   "source": [
    "text = 'PresleySchumacher'\n",
    "text_list = list(text)\n",
    "print(text_list)"
   ]
  },
  {
   "cell_type": "code",
   "execution_count": 74,
   "metadata": {},
   "outputs": [
    {
     "data": {
      "text/plain": [
       "17"
      ]
     },
     "execution_count": 74,
     "metadata": {},
     "output_type": "execute_result"
    }
   ],
   "source": [
    "list_ps =['P', 'r', 'e', 's', 'l', 'e', 'y', 'S', 'c', 'h', 'u', 'm', 'a', 'c', 'h', 'e', 'r']\n",
    "len(list_ps)"
   ]
  },
  {
   "cell_type": "code",
   "execution_count": 75,
   "metadata": {},
   "outputs": [
    {
     "name": "stdout",
     "output_type": "stream",
     "text": [
      "['P', 'r', 'e', 's', 'l']\n"
     ]
    }
   ],
   "source": [
    "print(list_ps[0:5])"
   ]
  },
  {
   "cell_type": "code",
   "execution_count": 76,
   "metadata": {},
   "outputs": [
    {
     "name": "stdout",
     "output_type": "stream",
     "text": [
      "['a', 'c', 'h', 'e', 'r']\n"
     ]
    }
   ],
   "source": [
    "print(list_ps[12:17])"
   ]
  },
  {
   "cell_type": "code",
   "execution_count": 77,
   "metadata": {},
   "outputs": [
    {
     "name": "stdout",
     "output_type": "stream",
     "text": [
      "['r', 'e', 'h', 'c', 'a', 'm', 'u', 'h', 'c', 'S', 'y', 'e', 'l', 's', 'e', 'r', 'P']\n"
     ]
    }
   ],
   "source": [
    "print(list_ps[::-1])"
   ]
  },
  {
   "cell_type": "code",
   "execution_count": 78,
   "metadata": {},
   "outputs": [
    {
     "name": "stdout",
     "output_type": "stream",
     "text": [
      "['P', 'e', 'l', 'y', 'c', 'u', 'a', 'h', 'r']\n"
     ]
    }
   ],
   "source": [
    "print(list_ps[::2])"
   ]
  },
  {
   "cell_type": "code",
   "execution_count": 79,
   "metadata": {},
   "outputs": [
    {
     "name": "stdout",
     "output_type": "stream",
     "text": [
      "['P', 's', 'y', 'h', 'a', 'e']\n"
     ]
    }
   ],
   "source": [
    "print(list_ps[::3])"
   ]
  },
  {
   "cell_type": "markdown",
   "metadata": {},
   "source": [
    "7. Build a dictionary that contains the following information about this class (with appropriate names as keys):\n",
    "* The name\n",
    "* The course number\n",
    "* The semester/term in which you are taking this course\n",
    "* The number of credit hours this course counts for\n",
    "* A list of the course learning objectives\n",
    "\n",
    "The majority of this information can be found in the syllabus. Print the dictionary."
   ]
  },
  {
   "cell_type": "code",
   "execution_count": 89,
   "metadata": {},
   "outputs": [
    {
     "name": "stdout",
     "output_type": "stream",
     "text": [
      "{'name': 'Web Mining and NLP', 'course number': '44620', 'semester': 'Fall 2022_Block 2', 'credit hours': '3', 'objectives': {'objective L01': ['Manage Python libraries and packages'], 'objective L02': ['Interact with hosted version control systems'], 'objective L03': ['Programmatically obtain and transform data from web-based APIs and HTML pages into a usable form'], 'objective L04': ['Describe the steps in a basic Natural Language Processing Pipeline'], 'objective L05': ['Use preexisting tools and software libraries to perform some Natural Language Processing, such as sentiment analysis'], 'objective L06': ['Explain results and conclusions drawn from the visualized information.']}}\n"
     ]
    }
   ],
   "source": [
    "wmnlp = {'name': 'Web Mining and NLP', 'course number' : '44620', 'semester' : 'Fall 2022_Block 2', 'credit hours' : '3', \n",
    "         'objectives': {'objective L01' : ['Manage Python libraries and packages'], \n",
    "                        'objective L02' : ['Interact with hosted version control systems'],\n",
    "                        'objective L03' : ['Programmatically obtain and transform data from web-based APIs and HTML pages into a usable form'],\n",
    "                        'objective L04' : ['Describe the steps in a basic Natural Language Processing Pipeline'],\n",
    "                        'objective L05' : ['Use preexisting tools and software libraries to perform some Natural Language Processing, such as sentiment analysis'],\n",
    "                        'objective L06' : ['Explain results and conclusions drawn from the visualized information.']}\n",
    "        }\n",
    "print(wmnlp)"
   ]
  },
  {
   "cell_type": "markdown",
   "metadata": {},
   "source": [
    "8.  Given the dictionary defined in the code cell below, print the list of level 3 spells the character has."
   ]
  },
  {
   "cell_type": "code",
   "execution_count": 97,
   "metadata": {},
   "outputs": [],
   "source": [
    "player_character = {'name': 'Kitab',\n",
    "                   'class': [('Cleric: Knowledge', 7)],\n",
    "                   'spells': {'cantrip': ['Guidance', 'Light', 'Thaumaturgy', 'Toll the Dead', 'Word of Radiance'],\n",
    "                             'level 1': ['Command', 'Detect Magic', 'Healing Word', 'Identify', 'Sleep'],\n",
    "                             'level 2': ['Augury', 'Calm Emotions', 'Command', 'Invisibility', 'Lesser Restoration'],\n",
    "                             'level 3': ['Mass Healing Word', 'Nondetection', 'Revivify', 'Feign Death', 'Speak with Dead'],\n",
    "                             'level 4': ['Banishment', 'Confusion']}\n",
    "                   }"
   ]
  },
  {
   "cell_type": "code",
   "execution_count": 107,
   "metadata": {},
   "outputs": [
    {
     "name": "stdout",
     "output_type": "stream",
     "text": [
      "['Mass Healing Word', 'Nondetection', 'Revivify', 'Feign Death', 'Speak with Dead']\n"
     ]
    }
   ],
   "source": [
    "print(player_character['spells']['level 3'])"
   ]
  },
  {
   "cell_type": "markdown",
   "metadata": {},
   "source": [
    "9. Write code to determine the number of unique elements in the list below.  You MUST use a set in finding your solution.  Print the number of unique values in the list with an appropriate label."
   ]
  },
  {
   "cell_type": "code",
   "execution_count": 109,
   "metadata": {},
   "outputs": [],
   "source": [
    "values = [10, 11, 10, 8, 1, 12, 0, 1, 6, 5, 5, 13, 6, 15, 0, 0, 1, 1, 9, 7]"
   ]
  },
  {
   "cell_type": "code",
   "execution_count": 123,
   "metadata": {},
   "outputs": [
    {
     "name": "stdout",
     "output_type": "stream",
     "text": [
      "[0, 1, 5, 6, 7, 8, 9, 10, 11, 12, 13, 15]\n"
     ]
    },
    {
     "data": {
      "text/plain": [
       "12"
      ]
     },
     "execution_count": 123,
     "metadata": {},
     "output_type": "execute_result"
    }
   ],
   "source": [
    "a_set = set(values)\n",
    "a_list = list(a_set)\n",
    "print(a_list)\n",
    "len(a_list)"
   ]
  },
  {
   "cell_type": "code",
   "execution_count": 114,
   "metadata": {},
   "outputs": [
    {
     "name": "stdout",
     "output_type": "stream",
     "text": [
      "Input list :  [10, 11, 10, 8, 1, 12, 0, 1, 6, 5, 5, 13, 6, 15, 0, 0, 1, 1, 9, 7]\n",
      "Output list :  {0, 1, 5, 6, 7, 8, 9, 10, 11, 12, 13, 15}\n",
      "No of unique elements in the list are: 12\n"
     ]
    }
   ],
   "source": [
    "print(\"Input list : \", values)\n",
    "values1 = set(values)\n",
    "print(\"Output list : \", values1)\n",
    "print(\"No of unique elements in the list are:\", len(values1))"
   ]
  },
  {
   "cell_type": "markdown",
   "metadata": {},
   "source": [
    "10. Create a new Jupyter Notebook (the name of the notebook should be your S number). Add a Markdown cell that contains your name. Add a Code cell and write Python that uses loops to draw the following pattern:\n",
    "\n",
    "```\n",
    "*      *\n",
    "**    **\n",
    "***  ***\n",
    "********\n",
    "```\n",
    "Make sure to add and submit both the new notebook and the changes to this notebook for this assignment."
   ]
  },
  {
   "cell_type": "code",
   "execution_count": 160,
   "metadata": {},
   "outputs": [
    {
     "name": "stdout",
     "output_type": "stream",
     "text": [
      "*\n",
      "**\n",
      "***\n",
      "****\n",
      "   *\n",
      "  **\n",
      " ***\n",
      "****\n"
     ]
    }
   ],
   "source": [
    "n = 4\n",
    "for i in range(1, n+1):\n",
    "    for k in range(1, i+1):\n",
    "        print(\"*\", end=\"\")\n",
    "    print()\n",
    "\n",
    "size = 4\n",
    "for i in range(size):\n",
    "    for j in range(1, size - i):\n",
    "        print(\" \", end=\"\")\n",
    "    for k in range(0, i + 1):\n",
    "        print(\"*\", end=\"\")\n",
    "    print(\"\")"
   ]
  },
  {
   "cell_type": "code",
   "execution_count": null,
   "metadata": {},
   "outputs": [],
   "source": []
  }
 ],
 "metadata": {
  "kernelspec": {
   "display_name": "Python 3",
   "language": "python",
   "name": "python3"
  },
  "language_info": {
   "codemirror_mode": {
    "name": "ipython",
    "version": 3
   },
   "file_extension": ".py",
   "mimetype": "text/x-python",
   "name": "python",
   "nbconvert_exporter": "python",
   "pygments_lexer": "ipython3",
   "version": "3.9.12"
  }
 },
 "nbformat": 4,
 "nbformat_minor": 4
}
